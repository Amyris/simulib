{
 "cells": [
  {
   "cell_type": "markdown",
   "metadata": {},
   "source": [
    "---\n",
    "title: Representing stoichiometry models\n",
    "format:\n",
    "  html: \n",
    "    toc: true\n",
    "    warning: false\n",
    "    error: false\n",
    "code-line-numbers: true\n",
    "---\n",
    "\n",
    "Stoichiometric models are represented in *simulib* through the `SteadyStateSimulationInput` dataclass. This is merely a wrapper over a `cobra` model with the added feature to store bounds and additional reactions to the dataclass."
   ]
  },
  {
   "cell_type": "code",
   "execution_count": 1,
   "metadata": {},
   "outputs": [
    {
     "data": {
      "text/plain": [
       "SteadyStateSimulationInput(model=<Model iND750 at 0x7fee020629e0>, added_reactions=[], reaction_constraints=[])"
      ]
     },
     "metadata": {},
     "output_type": "display_data"
    }
   ],
   "source": [
    "%load_ext autoreload\n",
    "%autoreload 2\n",
    "\n",
    "import sys\n",
    "sys.path.insert(0, \"/app/src\")\n",
    "\n",
    "from cobra.io.web.load import load_model\n",
    "from simulib.entities.steadystate import SteadyStateSimulationInput\n",
    "\n",
    "cobra_model = load_model(\"iND750\")\n",
    "ss_input = SteadyStateSimulationInput(model=cobra_model, added_reactions=[], reaction_constraints=[])\n",
    "display(ss_input)"
   ]
  }
 ],
 "metadata": {
  "kernelspec": {
   "display_name": ".venv",
   "language": "python",
   "name": "python3"
  },
  "language_info": {
   "codemirror_mode": {
    "name": "ipython",
    "version": 3
   },
   "file_extension": ".py",
   "mimetype": "text/x-python",
   "name": "python",
   "nbconvert_exporter": "python",
   "pygments_lexer": "ipython3",
   "version": "3.8.16"
  }
 },
 "nbformat": 4,
 "nbformat_minor": 2
}
