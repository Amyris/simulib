{
 "cells": [
  {
   "cell_type": "markdown",
   "metadata": {},
   "source": [
    "---\n",
    "title: Representing dynamic models\n",
    "format:\n",
    "  html: \n",
    "    toc: true\n",
    "    warning: false\n",
    "    error: false\n",
    "code-line-numbers: true\n",
    "---\n",
    "\n",
    "*simulib* provides a structure capable of representing dynamic metabolic models. The overarching data structure encoding an entire model is the `DynamicSimulationInput` dataclass."
   ]
  },
  {
   "cell_type": "code",
   "execution_count": 1,
   "metadata": {},
   "outputs": [],
   "source": [
    "%load_ext autoreload\n",
    "%autoreload 2\n",
    "\n",
    "import sys\n",
    "sys.path.insert(0, \"/app/src\")"
   ]
  },
  {
   "cell_type": "markdown",
   "metadata": {},
   "source": [
    "### Dynamic fluxes\n",
    "\n",
    "One of the main components of `DynamicSimulationInput` is the `ODE` class representing a single variable associated with an expression that describes its consumption or production over time.\n",
    "\n",
    "`ODE` instances can be easily created from a variety of inputs. At its core, `ODE` must contain a variable, initial condition, and a rhs expression.\n",
    "`annotations` is an optional dict that users can use to populate information about the ODE.\n",
    "`ODESimulationProperties` is an optional field that users can use add the `abs_tolerance`."
   ]
  },
  {
   "cell_type": "code",
   "execution_count": 2,
   "metadata": {},
   "outputs": [
    {
     "data": {
      "text/plain": [
       "ODE(variable='Glucose', rhs_expression=Piecewise((Biomass/Glucose, Glucose < 10), (Piecewise((2*Biomass/Glucose, Eq(Pulse, 1)), (3*Biomass/Glucose, Eq(Pulse, 2))), Glucose > 10)), initial_condition=10.0000000000000, annotations={}, simulation_properties=ODESimulationProperties(abs_tolerance=0.001), metabolite_id=None)"
      ]
     },
     "metadata": {},
     "output_type": "display_data"
    }
   ],
   "source": [
    "from simulib.entities.dynamic import ODE, ODESimulationProperties\n",
    "\n",
    "glucose_ode = ODE(\n",
    "    variable=\"Glucose\",\n",
    "    metabolite_id=None,\n",
    "    initial_condition=10,\n",
    "    annotations={},\n",
    "    simulation_properties=ODESimulationProperties(abs_tolerance=1e-3),\n",
    "    rhs_expression=[\n",
    "        {\n",
    "            \"expr\": \"Biomass * (1/Glucose)\", \n",
    "            \"cond\": \"Glucose < 10\"\n",
    "        },\n",
    "        {\n",
    "            \"expr\": \n",
    "                [\n",
    "                    {\n",
    "                        \"expr\": \"Biomass * (2/Glucose)\",\n",
    "                        \"cond\": \"Pulse = 1\"\n",
    "                    },\n",
    "                    {\n",
    "                        \"expr\": \"Biomass * (3/Glucose)\",\n",
    "                        \"cond\": \"Pulse = 2\"                    \n",
    "                    }\n",
    "                ],\n",
    "            \"cond\": \"Glucose > 10\"\n",
    "        }\n",
    "    ]\n",
    ")\n",
    "display(glucose_ode)"
   ]
  },
  {
   "cell_type": "markdown",
   "metadata": {},
   "source": [
    "Optionally, the metabolite described by a `ODE` instance can be associated with an exchange flux in another model. This relationship can be captured through the `DynamicExchangeFlux` class. These fluxes can have lower and upper bounds defined by expressions.\n",
    "\n",
    "Note that on `DynamicExchangeFlux` instances, upper and lower bound expressions must have a non-null `cond` field."
   ]
  },
  {
   "cell_type": "code",
   "execution_count": 3,
   "metadata": {},
   "outputs": [
    {
     "data": {
      "text/plain": [
       "DynamicExchangeFlux(exchange_flux_id='EX_glc__D_e', lower_bound=None, upper_bound=DynamicExpression(expr=2*Glucose, cond=Glucose))"
      ]
     },
     "metadata": {},
     "output_type": "display_data"
    }
   ],
   "source": [
    "from simulib.entities.dynamic import DynamicExchangeFlux, DynamicExpression\n",
    "glucose_variable = glucose_ode.variable\n",
    "\n",
    "glucose_exchange = DynamicExchangeFlux(\n",
    "    exchange_flux_id = \"EX_glc__D_e\",\n",
    "    upper_bound = \n",
    "        DynamicExpression.from_object(\n",
    "            {\"expr\": f\"{glucose_variable} * 2\", \"cond\": f\"{glucose_variable}\"}\n",
    "        )\n",
    ")\n",
    "display(glucose_exchange)"
   ]
  },
  {
   "cell_type": "markdown",
   "metadata": {},
   "source": [
    "## Dynamic simulation inputs\n",
    "\n",
    "`DynamicSimulationInput` objects are used to represent a dynamic model. The components required for this are:\n",
    "\n",
    "- name: str: The name of the model.\n",
    "- description: Optional[str]: A description of the model.\n",
    "- odes: List[ODE]: A list of ODEs in the model.\n",
    "- exchange_fluxes: List[DynamicExchangeFlux]: A list of exchange fluxes.\n",
    "- variables: Dict[str, ValueOrExpr]: A dictionary of variables and their definitions. These are variables that are not ODEs but are used in the expressions.\n",
    "- simulation_properties: Dict[str, Union[str, int, float, bool]]: General simulation properties.\n",
    "\n",
    "It has the following Key Methods:\n",
    "- from_dict: Creates a DynamicModelInput from a dictionary.\n",
    "- validate_expression_dicts: Pydantic validator to parse the variables dictionary.\n",
    "- initial_conditions: Returns a dictionary of initial conditions for the ODEs.\n",
    "- free_variables: Returns the free variables in the model.\n",
    "- exchange_variables: Returns the exchange reaction IDs.\n",
    "- defined_variables: Returns the names of the defined variables.\n",
    "\n",
    "Each component is parsed using the function defined in its class (e.g. `from_dict`, `from_object`). This means that entire models can be stored as JSON or YAML inputs, converted into dictionaries of strings and parsed into a `DynamicSimulationInput`. In the following example, we combine all of the features explored in the previous section to easily import a model"
   ]
  },
  {
   "cell_type": "code",
   "execution_count": 4,
   "metadata": {},
   "outputs": [
    {
     "data": {
      "text/plain": [
       "{'name': 'Toy S. cerevisae Glucose Growth Model',\n",
       " 'description': 'Simulib-ready toy model',\n",
       " 'simulation_properties': {'algorithm': 'direct',\n",
       "  'display': 'none',\n",
       "  'ode_method': 'BDF',\n",
       "  'rel_tolerance': '1e-4',\n",
       "  'tout': 0.001,\n",
       "  'tstart': 0,\n",
       "  'tstop': 24},\n",
       " 'variables': {'Vgmax': 8.5,\n",
       "  'Kg': 0.5,\n",
       "  'D': 0.044,\n",
       "  'Gin': 100.0,\n",
       "  'Vomax': 8.0,\n",
       "  'Ko': 0.01},\n",
       " 'odes': [{'initial_condition': 0.5,\n",
       "   'metabolite_id': None,\n",
       "   'rhs_expression': 'D',\n",
       "   'variable': 'Volume'},\n",
       "  {'initial_condition': 0.05,\n",
       "   'metabolite_id': None,\n",
       "   'rhs_expression': 'BIOMASS_SC4_bal * Biomass - D * Biomass / Volume',\n",
       "   'variable': 'Biomass'},\n",
       "  {'initial_condition': 0.05,\n",
       "   'metabolite_id': None,\n",
       "   'rhs_expression': 'BIOMASS_SC4_bal * Biomass - D * Biomass / Volume',\n",
       "   'variable': 'Biomass'},\n",
       "  {'initial_condition': 10.0,\n",
       "   'metabolite_id': None,\n",
       "   'rhs_expression': 'EX_glc__D_e * Biomass + D * (Gin - Glucose) / Volume',\n",
       "   'variable': 'Glucose'},\n",
       "  {'initial_condition': 0.0,\n",
       "   'metabolite_id': None,\n",
       "   'rhs_expression': 'EX_etoh_e * Biomass - D * Ethanol / Volume',\n",
       "   'variable': 'Ethanol'},\n",
       "  {'initial_condition': 0.0,\n",
       "   'metabolite_id': None,\n",
       "   'rhs_expression': 'Glycerol * Biomass - D * Glycerol / Volume',\n",
       "   'variable': 'Glycerol'},\n",
       "  {'initial_condition': 0.0,\n",
       "   'metabolite_id': None,\n",
       "   'rhs_expression': 10,\n",
       "   'variable': 'Oxygen'}],\n",
       " 'exchange_fluxes': [{'exchange_flux_id': 'BIOMASS_SC4_bal',\n",
       "   'lower_bound': None,\n",
       "   'upper_bound': None},\n",
       "  {'exchange_flux_id': 'EX_glc__D_e',\n",
       "   'upper_bound': None,\n",
       "   'lower_bound': {'cond': 'Glucose',\n",
       "    'expr': 'Vgmax * (Glucose / (Kg + Glucose))'}},\n",
       "  {'exchange_flux_id': 'EX_etoh_e', 'lower_bound': None, 'upper_bound': None},\n",
       "  {'exchange_flux_id': 'EX_glyc_e', 'lower_bound': None, 'upper_bound': None},\n",
       "  {'exchange_flux_id': 'EX_o2_e',\n",
       "   'upper_bound': None,\n",
       "   'lower_bound': {'expr': 'Vomax * (Oxygen / (Ko + Oxygen))',\n",
       "    'cond': 'Oxygen'}}]}"
      ]
     },
     "execution_count": 4,
     "metadata": {},
     "output_type": "execute_result"
    }
   ],
   "source": [
    "from yaml import safe_load as yaml_load\n",
    "\n",
    "with open(\"/app/resources/models/toy_scere_glc_growth.yaml\", \"r\") as f:\n",
    "    dynamic_model_dict = yaml_load(f)\n",
    "\n",
    "dynamic_model_dict"
   ]
  },
  {
   "cell_type": "code",
   "execution_count": 5,
   "metadata": {},
   "outputs": [
    {
     "data": {
      "text/plain": [
       "DynamicModelInput(name='Toy S. cerevisae Glucose Growth Model', description='Simulib-ready toy model', odes=[ODE(variable='Volume', rhs_expression=D, initial_condition=0.500000000000000, annotations={}, simulation_properties=ODESimulationProperties(abs_tolerance=None), metabolite_id=None), ODE(variable='Biomass', rhs_expression=BIOMASS_SC4_bal*Biomass - Biomass*D/Volume, initial_condition=0.0500000000000000, annotations={}, simulation_properties=ODESimulationProperties(abs_tolerance=None), metabolite_id=None), ODE(variable='Biomass', rhs_expression=BIOMASS_SC4_bal*Biomass - Biomass*D/Volume, initial_condition=0.0500000000000000, annotations={}, simulation_properties=ODESimulationProperties(abs_tolerance=None), metabolite_id=None), ODE(variable='Glucose', rhs_expression=Biomass*EX_glc__D_e + D*(Gin - Glucose)/Volume, initial_condition=10.0000000000000, annotations={}, simulation_properties=ODESimulationProperties(abs_tolerance=None), metabolite_id=None), ODE(variable='Ethanol', rhs_expression=Biomass*EX_etoh_e - D*Ethanol/Volume, initial_condition=0.0, annotations={}, simulation_properties=ODESimulationProperties(abs_tolerance=None), metabolite_id=None), ODE(variable='Glycerol', rhs_expression=Biomass*Glycerol - D*Glycerol/Volume, initial_condition=0.0, annotations={}, simulation_properties=ODESimulationProperties(abs_tolerance=None), metabolite_id=None), ODE(variable='Oxygen', rhs_expression=10.0000000000000, initial_condition=0.0, annotations={}, simulation_properties=ODESimulationProperties(abs_tolerance=None), metabolite_id=None)], exchange_fluxes=[DynamicExchangeFlux(exchange_flux_id='BIOMASS_SC4_bal', lower_bound=None, upper_bound=None), DynamicExchangeFlux(exchange_flux_id='EX_glc__D_e', lower_bound=DynamicExpression(expr=Glucose*Vgmax/(Glucose + Kg), cond=Glucose), upper_bound=None), DynamicExchangeFlux(exchange_flux_id='EX_etoh_e', lower_bound=None, upper_bound=None), DynamicExchangeFlux(exchange_flux_id='EX_glyc_e', lower_bound=None, upper_bound=None), DynamicExchangeFlux(exchange_flux_id='EX_o2_e', lower_bound=DynamicExpression(expr=Oxygen*Vomax/(Ko + Oxygen), cond=Oxygen), upper_bound=None)], variables={'Vgmax': 8.50000000000000, 'Kg': 0.500000000000000, 'D': 0.0440000000000000, 'Gin': 100.000000000000, 'Vomax': 8.00000000000000, 'Ko': 0.0100000000000000}, simulation_properties={'algorithm': 'direct', 'display': 'none', 'ode_method': 'BDF', 'rel_tolerance': '1e-4', 'tout': 0.001, 'tstart': 0, 'tstop': 24})"
      ]
     },
     "execution_count": 5,
     "metadata": {},
     "output_type": "execute_result"
    }
   ],
   "source": [
    "from simulib.entities.dynamic import DynamicModelInput\n",
    "\n",
    "ds_input = DynamicModelInput.from_dict(dynamic_model_dict)\n",
    "ds_input"
   ]
  }
 ],
 "metadata": {
  "kernelspec": {
   "display_name": ".venv",
   "language": "python",
   "name": "python3"
  },
  "language_info": {
   "codemirror_mode": {
    "name": "ipython",
    "version": 3
   },
   "file_extension": ".py",
   "mimetype": "text/x-python",
   "name": "python",
   "nbconvert_exporter": "python",
   "pygments_lexer": "ipython3",
   "version": "3.8.16"
  }
 },
 "nbformat": 4,
 "nbformat_minor": 2
}
