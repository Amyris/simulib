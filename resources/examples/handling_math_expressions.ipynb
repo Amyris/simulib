{
 "cells": [
  {
   "cell_type": "markdown",
   "metadata": {},
   "source": [
    "---\n",
    "title: Handling Mathematical Expressions\n",
    "format:\n",
    "  html: \n",
    "    toc: true\n",
    "    warning: false\n",
    "    error: false\n",
    "code-line-numbers: true\n",
    "---"
   ]
  },
  {
   "cell_type": "code",
   "execution_count": 1,
   "metadata": {},
   "outputs": [],
   "source": [
    "%load_ext autoreload\n",
    "%autoreload 2\n",
    "\n",
    "import sys\n",
    "sys.path.insert(0, \"/app/src\")"
   ]
  },
  {
   "cell_type": "markdown",
   "metadata": {},
   "source": [
    "*simulib* allows one to easily create *sympy*-backed symbolic expressions from common Python types. These expressions can then be used to define expressions such as the derivative of a metabolite concentration. `DynamicExpression` is a dataclass that represents a single expression and is used for this purpose"
   ]
  },
  {
   "cell_type": "code",
   "execution_count": 2,
   "metadata": {},
   "outputs": [
    {
     "data": {
      "text/plain": [
       "DynamicExpression(expr=b + m*x, cond=None)"
      ]
     },
     "metadata": {},
     "output_type": "display_data"
    }
   ],
   "source": [
    "from simulib.entities.dynamic import DynamicExpression\n",
    "from sympy import Symbol\n",
    "\n",
    "m, x, b = (Symbol(name) for name in [\"m\", \"x\", \"b\"])\n",
    "\n",
    "sample_expression = DynamicExpression(\n",
    "    expr = m*x + b\n",
    ")\n",
    "\n",
    "display(sample_expression)"
   ]
  },
  {
   "cell_type": "code",
   "execution_count": 3,
   "metadata": {},
   "outputs": [
    {
     "data": {
      "text/plain": [
       "DynamicExpression(expr=b + m*x, cond=None)"
      ]
     },
     "metadata": {},
     "output_type": "display_data"
    }
   ],
   "source": [
    "from simulib.entities.dynamic import DynamicExpression\n",
    "from sympy import Symbol\n",
    "\n",
    "m, x, b = (Symbol(name) for name in [\"m\", \"x\", \"b\"])\n",
    "\n",
    "sample_expression = DynamicExpression(\n",
    "    expr = m*x + b\n",
    ")\n",
    "\n",
    "display(sample_expression)"
   ]
  },
  {
   "cell_type": "code",
   "execution_count": 4,
   "metadata": {},
   "outputs": [
    {
     "data": {
      "text/plain": [
       "DynamicExpression(expr=b + m*x, cond=None)"
      ]
     },
     "metadata": {},
     "output_type": "display_data"
    }
   ],
   "source": [
    "from simulib.entities.dynamic import DynamicExpression\n",
    "from sympy import Symbol\n",
    "\n",
    "m, x, b = (Symbol(name) for name in [\"m\", \"x\", \"b\"])\n",
    "\n",
    "sample_expression = DynamicExpression(\n",
    "    expr = m*x + b\n",
    ")\n",
    "\n",
    "display(sample_expression)"
   ]
  },
  {
   "cell_type": "code",
   "execution_count": 5,
   "metadata": {},
   "outputs": [
    {
     "data": {
      "text/plain": [
       "DynamicExpression(expr=b + m*x, cond=None)"
      ]
     },
     "metadata": {},
     "output_type": "display_data"
    }
   ],
   "source": [
    "from simulib.entities.dynamic import DynamicExpression\n",
    "from sympy import Symbol\n",
    "\n",
    "m, x, b = (Symbol(name) for name in [\"m\", \"x\", \"b\"])\n",
    "\n",
    "sample_expression = DynamicExpression(\n",
    "    expr = m*x + b\n",
    ")\n",
    "\n",
    "display(sample_expression)"
   ]
  },
  {
   "cell_type": "code",
   "execution_count": 6,
   "metadata": {},
   "outputs": [
    {
     "data": {
      "text/plain": [
       "DynamicExpression(expr=b + m*x, cond=None)"
      ]
     },
     "metadata": {},
     "output_type": "display_data"
    }
   ],
   "source": [
    "from simulib.entities.dynamic import DynamicExpression\n",
    "from sympy import Symbol\n",
    "\n",
    "m, x, b = (Symbol(name) for name in [\"m\", \"x\", \"b\"])\n",
    "\n",
    "sample_expression = DynamicExpression(\n",
    "    expr = m*x + b\n",
    ")\n",
    "\n",
    "display(sample_expression)"
   ]
  },
  {
   "cell_type": "code",
   "execution_count": 7,
   "metadata": {},
   "outputs": [
    {
     "data": {
      "text/plain": [
       "DynamicExpression(expr=b + m*x, cond=None)"
      ]
     },
     "metadata": {},
     "output_type": "display_data"
    }
   ],
   "source": [
    "from simulib.entities.dynamic import DynamicExpression\n",
    "from sympy import Symbol\n",
    "\n",
    "m, x, b = (Symbol(name) for name in [\"m\", \"x\", \"b\"])\n",
    "\n",
    "sample_expression = DynamicExpression(\n",
    "    expr = m*x + b\n",
    ")\n",
    "\n",
    "display(sample_expression)"
   ]
  },
  {
   "cell_type": "code",
   "execution_count": 8,
   "metadata": {},
   "outputs": [
    {
     "data": {
      "text/plain": [
       "DynamicExpression(expr=b + m*x, cond=None)"
      ]
     },
     "metadata": {},
     "output_type": "display_data"
    }
   ],
   "source": [
    "from simulib.entities.dynamic import DynamicExpression\n",
    "from sympy import Symbol\n",
    "\n",
    "m, x, b = (Symbol(name) for name in [\"m\", \"x\", \"b\"])\n",
    "\n",
    "sample_expression = DynamicExpression(\n",
    "    expr = m*x + b\n",
    ")\n",
    "\n",
    "display(sample_expression)"
   ]
  },
  {
   "cell_type": "markdown",
   "metadata": {},
   "source": [
    "`expr` is the dataclass field that holds the desired expression. Additionally, the `cond` field can also store a relational expression to be used as the condition for `expr` to be used."
   ]
  },
  {
   "cell_type": "code",
   "execution_count": 9,
   "metadata": {},
   "outputs": [
    {
     "data": {
      "text/plain": [
       "DynamicExpression(expr=b + m*x, cond=m > 1)"
      ]
     },
     "metadata": {},
     "output_type": "display_data"
    }
   ],
   "source": [
    "sample_expression_with_cond = DynamicExpression(\n",
    "    expr = m*x + b,\n",
    "    cond = m > 1\n",
    ")\n",
    "\n",
    "display(sample_expression_with_cond)"
   ]
  },
  {
   "cell_type": "markdown",
   "metadata": {},
   "source": [
    "`DynamicExpression` objects can be created from a vast number of types. Dictionary and string parsing allow the user to freely add any symbols to their expressions without the need for a pre-instanced `sympy.Symbol` object."
   ]
  },
  {
   "cell_type": "code",
   "execution_count": 10,
   "metadata": {},
   "outputs": [
    {
     "data": {
      "text/plain": [
       "DynamicExpression(expr=b + m*x, cond=m > 1)"
      ]
     },
     "metadata": {},
     "output_type": "display_data"
    },
    {
     "data": {
      "text/plain": [
       "DynamicExpression(expr=b + m*x, cond=None)"
      ]
     },
     "metadata": {},
     "output_type": "display_data"
    }
   ],
   "source": [
    "sample_expression_from_dict = DynamicExpression.from_object(\n",
    "    {\"expr\": \"m * x + b\", \"cond\": \"m > 1\"}\n",
    ")\n",
    "display(sample_expression_from_dict)\n",
    "\n",
    "sample_expression_from_string = DynamicExpression.from_object(\n",
    "    \"m * x + b\"\n",
    ")\n",
    "display(sample_expression_from_string)"
   ]
  },
  {
   "cell_type": "markdown",
   "metadata": {},
   "source": [
    "`DynamicExpression` instances can be compared for equality and will return True if both instances contain equivalent expressions in both `expr` and `cond` fields."
   ]
  },
  {
   "cell_type": "code",
   "execution_count": 11,
   "metadata": {},
   "outputs": [
    {
     "data": {
      "text/plain": [
       "True"
      ]
     },
     "metadata": {},
     "output_type": "display_data"
    },
    {
     "data": {
      "text/plain": [
       "True"
      ]
     },
     "metadata": {},
     "output_type": "display_data"
    }
   ],
   "source": [
    "display(sample_expression_from_dict == sample_expression_with_cond)\n",
    "display(sample_expression == sample_expression_from_string)"
   ]
  },
  {
   "cell_type": "markdown",
   "metadata": {},
   "source": [
    "Free symbols in a `DynamicExpression` can be identified using the `free_variables` property."
   ]
  },
  {
   "cell_type": "code",
   "execution_count": 12,
   "metadata": {},
   "outputs": [
    {
     "data": {
      "text/plain": [
       "{b, m, x}"
      ]
     },
     "execution_count": 12,
     "metadata": {},
     "output_type": "execute_result"
    }
   ],
   "source": [
    "sample_expression.free_variables"
   ]
  },
  {
   "cell_type": "markdown",
   "metadata": {},
   "source": [
    "Symbols in `DynamicExpression` instances can also be substituited by other symbols or values."
   ]
  },
  {
   "cell_type": "code",
   "execution_count": 13,
   "metadata": {},
   "outputs": [
    {
     "data": {
      "text/plain": [
       "DynamicExpression(expr=b + m*x, cond=None)"
      ]
     },
     "metadata": {},
     "output_type": "display_data"
    },
    {
     "data": {
      "text/plain": [
       "DynamicExpression(expr=2*x + 4, cond=None)"
      ]
     },
     "metadata": {},
     "output_type": "display_data"
    },
    {
     "data": {
      "text/plain": [
       "DynamicExpression(expr=24, cond=None)"
      ]
     },
     "metadata": {},
     "output_type": "display_data"
    }
   ],
   "source": [
    "expression_to_sub = DynamicExpression(\n",
    "    expr = m*x + b\n",
    ")\n",
    "display(expression_to_sub)\n",
    "\n",
    "expression_to_sub.substitute(\n",
    "    {\"m\": 2, \"b\": 4}\n",
    ")\n",
    "display(expression_to_sub)\n",
    "\n",
    "expression_to_sub.substitute(\n",
    "    {\"x\": 10}\n",
    ")\n",
    "display(expression_to_sub)"
   ]
  },
  {
   "cell_type": "markdown",
   "metadata": {},
   "source": [
    "### Further considerations\n",
    "\n",
    "Although `DynamicExpression` is supported by `sympy`, there are certain limitations and considerations to take into account when creating expressions. Expressions can be typed in various formats with vastly different implications.\n",
    "\n",
    "In this first example, we define a simple expression."
   ]
  },
  {
   "cell_type": "code",
   "execution_count": 14,
   "metadata": {},
   "outputs": [
    {
     "data": {
      "text/plain": [
       "DynamicExpression(expr=A*B + C, cond=None)"
      ]
     },
     "execution_count": 14,
     "metadata": {},
     "output_type": "execute_result"
    }
   ],
   "source": [
    "DynamicExpression.from_object(\"A * B + C\")"
   ]
  },
  {
   "cell_type": "markdown",
   "metadata": {},
   "source": [
    "When dealing with exchange bounds, we may also supply simple expressions such as the one above, but we must also supply a `cond` parameter. In this context, and when the expression is passed as a dictionary, `cond` does not affect the parsed expression."
   ]
  },
  {
   "cell_type": "code",
   "execution_count": 15,
   "metadata": {},
   "outputs": [
    {
     "data": {
      "text/plain": [
       "DynamicExpression(expr=A*B + C, cond=D)"
      ]
     },
     "execution_count": 15,
     "metadata": {},
     "output_type": "execute_result"
    }
   ],
   "source": [
    "DynamicExpression.from_object({\"expr\":\"A * B + C\", \"cond\":\"D\"})"
   ]
  },
  {
   "cell_type": "markdown",
   "metadata": {},
   "source": [
    "However, we may also require more complex functions. At the moment, `DynamicExpression` can contain piecewise functions, whose definition varies along the function's domain. In `simulib` such functions can be parsed using the following structure:\n",
    "```\n",
    "[\n",
    "    {\"expr\": <expression #1>, \"cond\": <condition #1>},\n",
    "    {\"expr\": <expression #2>, \"cond\": <condition #2>},\n",
    "    <expression #3> (condition defaults to True if all of the above are not `True`) \n",
    "]\n",
    "```\n",
    "Note that it is critical for these dictionaries to be enclosed in a list, so that the parser recognizes this as a piecewise expression\n"
   ]
  },
  {
   "cell_type": "code",
   "execution_count": 16,
   "metadata": {},
   "outputs": [
    {
     "data": {
      "text/plain": [
       "DynamicExpression(expr=Piecewise((A + 1, B <= 2), (2*A, B <= 3), (A, True)), cond=None)"
      ]
     },
     "metadata": {},
     "output_type": "display_data"
    },
    {
     "data": {
      "text/plain": [
       "DynamicExpression(expr=A + 1, cond=None)"
      ]
     },
     "metadata": {},
     "output_type": "display_data"
    }
   ],
   "source": [
    "list_of_dicts = [\n",
    "    {\"expr\": \"A + 1\", \"cond\": \"B <= 2\"},\n",
    "    {\"expr\": \"A * 2\", \"cond\": \"B <= 3\"},\n",
    "    \"A\"\n",
    "]\n",
    "piecewise_expression = DynamicExpression.from_object(list_of_dicts)\n",
    "display(piecewise_expression)\n",
    "piecewise_expression.substitute({\"B\": 2.0})\n",
    "display(piecewise_expression)"
   ]
  },
  {
   "cell_type": "markdown",
   "metadata": {},
   "source": [
    "There are certain limitations to this. Equality expressions (`=`) can be used as conditions, but only in isolation. The following example works."
   ]
  },
  {
   "cell_type": "code",
   "execution_count": 17,
   "metadata": {},
   "outputs": [
    {
     "data": {
      "text/plain": [
       "DynamicExpression(expr=Piecewise((X**2, Eq(b, 2)), (X**3, Eq(b, 3)), (A, True)), cond=None)"
      ]
     },
     "metadata": {},
     "output_type": "display_data"
    },
    {
     "data": {
      "text/plain": [
       "DynamicExpression(expr=X**2, cond=None)"
      ]
     },
     "metadata": {},
     "output_type": "display_data"
    }
   ],
   "source": [
    "another_list_of_dicts = [\n",
    "    {\"expr\": \"X**2\", \"cond\": \"b = 2\"},\n",
    "    {\"expr\": \"X**3\", \"cond\": \"b = 3\"},\n",
    "    \"A\"\n",
    "]\n",
    "\n",
    "piecewise_expression_that_works = DynamicExpression.from_object(another_list_of_dicts)\n",
    "display(piecewise_expression_that_works)\n",
    "\n",
    "piecewise_expression_that_works.substitute({\"b\": 2})\n",
    "display(piecewise_expression_that_works)"
   ]
  },
  {
   "cell_type": "markdown",
   "metadata": {},
   "source": [
    "However, this one does not, since it is the combination of two relational expressions. This is a `sympy` issue which we cannot fix (as of 2025)."
   ]
  },
  {
   "cell_type": "code",
   "execution_count": 18,
   "metadata": {},
   "outputs": [
    {
     "name": "stdout",
     "output_type": "stream",
     "text": [
      "Caught exception: name 'b' is not defined\n"
     ]
    }
   ],
   "source": [
    "list_of_dicts_not_working = [\n",
    "    {\"expr\": \"X**2\", \"cond\": \"(b=2) & (z > 0)\"},\n",
    "    {\"expr\": \"X**3\", \"cond\": \"b = 3\"},\n",
    "    \"A\"\n",
    "]\n",
    "\n",
    "try:\n",
    "    piecewise_expression_not_working = DynamicExpression.from_object(list_of_dicts_not_working)\n",
    "    \n",
    "except NameError as e:\n",
    "    print(f\"Caught exception: {e}\")"
   ]
  },
  {
   "cell_type": "markdown",
   "metadata": {},
   "source": [
    "To have it work, equality needs to be defined with `Eq`"
   ]
  },
  {
   "cell_type": "code",
   "execution_count": 19,
   "metadata": {},
   "outputs": [
    {
     "data": {
      "text/plain": [
       "DynamicExpression(expr=Piecewise((X**2, Eq(b, 2) & (z > 0)), (X**3, Eq(b, 3)), (A, True)), cond=None)"
      ]
     },
     "metadata": {},
     "output_type": "display_data"
    },
    {
     "data": {
      "text/plain": [
       "DynamicExpression(expr=Piecewise((X**2, z > 0), (A, True)), cond=None)"
      ]
     },
     "metadata": {},
     "output_type": "display_data"
    }
   ],
   "source": [
    "list_of_dicts_working = [\n",
    "    {\"expr\": \"X**2\", \"cond\": \"Eq (b, 2) & (z > 0)\"},\n",
    "    {\"expr\": \"X**3\", \"cond\": \"b = 3\"},\n",
    "    \"A\"\n",
    "]\n",
    "\n",
    "piecewise_expression_working = DynamicExpression.from_object(list_of_dicts_working)\n",
    "display(piecewise_expression_working)\n",
    "piecewise_expression_working.substitute({\"b\": 2})\n",
    "display(piecewise_expression_working)\n",
    "\n",
    "    "
   ]
  }
 ],
 "metadata": {
  "kernelspec": {
   "display_name": ".venv",
   "language": "python",
   "name": "python3"
  },
  "language_info": {
   "codemirror_mode": {
    "name": "ipython",
    "version": 3
   },
   "file_extension": ".py",
   "mimetype": "text/x-python",
   "name": "python",
   "nbconvert_exporter": "python",
   "pygments_lexer": "ipython3",
   "version": "3.10.16"
  }
 },
 "nbformat": 4,
 "nbformat_minor": 2
}
